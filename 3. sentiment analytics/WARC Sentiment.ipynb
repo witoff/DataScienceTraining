{
 "metadata": {
  "name": ""
 },
 "nbformat": 3,
 "nbformat_minor": 0,
 "worksheets": [
  {
   "cells": [
    {
     "cell_type": "markdown",
     "metadata": {},
     "source": [
      "## Iterate over a WARC file to Extract Sentiment\n",
      "In this case we'll use the helper 'WET' format that has already removed HTML tags and leaves us with plain, parseable text.\n",
      "\n",
      "You may need to install this warc library:\n",
      "```bash\n",
      "pip install warc\n",
      "```"
     ]
    },
    {
     "cell_type": "code",
     "collapsed": false,
     "input": [
      "import warc\n",
      "import string\n",
      "from text import TextBlob"
     ],
     "language": "python",
     "metadata": {},
     "outputs": [],
     "prompt_number": 1
    },
    {
     "cell_type": "code",
     "collapsed": false,
     "input": [
      "! ls"
     ],
     "language": "python",
     "metadata": {},
     "outputs": [
      {
       "output_type": "stream",
       "stream": "stdout",
       "text": [
        "CC-MAIN-20131204134629-00001-ip-10-33-133-15.ec2.internal.warc.wet\r\n",
        "WARC Sentiment.ipynb\r\n"
       ]
      }
     ],
     "prompt_number": 6
    },
    {
     "cell_type": "code",
     "collapsed": false,
     "input": [
      "# Download a WET File\n",
      "# http://aws-publicdatasets.s3.amazonaws.com/common-crawl/crawl-data/CC-MAIN-2013-48/segments/1386164789076/wet/CC-MAIN-20131204134629-00001-ip-10-33-133-15.ec2.internal.warc.wet.gz\n",
      "\n",
      "# Load a WET file here.  You can replace with any other WET of your choosing.\n",
      "f = warc.open(\"CC-MAIN-20131204134629-00001-ip-10-33-133-15.ec2.internal.warc.wet.gz\")"
     ],
     "language": "python",
     "metadata": {},
     "outputs": [],
     "prompt_number": 7
    },
    {
     "cell_type": "code",
     "collapsed": false,
     "input": [
      "# Let's write a function to extract the most negative sentence in any blob of text\n",
      "def extract(text):\n",
      "    blob = TextBlob(text)\n",
      "\n",
      "    output = []\n",
      "    for s in blob.sentences:\n",
      "        # Polarity (as opposed to subjectivity) tells us how positive/neutral/negative this sentence is\n",
      "        polarity = s.sentiment.polarity\n",
      "    \n",
      "        output.append( {'polarity' : polarity, 'sentence' : str(s) } )\n",
      "    output = sorted(output, key=lambda x: x['polarity'], reverse=True)\n",
      "    return output[-1]"
     ],
     "language": "python",
     "metadata": {},
     "outputs": [],
     "prompt_number": 8
    },
    {
     "cell_type": "code",
     "collapsed": false,
     "input": [
      "sentiment = {'polarity' : 0}\n",
      "\n",
      "r = f.read_record()\n",
      "\n",
      "while True:\n",
      "    # Read a record\n",
      "    r = f.read_record()\n",
      "    \n",
      "    # if there was no record, stop iterating\n",
      "    if not r:\n",
      "        break\n",
      "        \n",
      "    #print a processing indicator\n",
      "    domain = r.url.split('/')[2]\n",
      "    print 'processing domain: ', domain\n",
      "    \n",
      "    # Read the text\n",
      "    text = r.payload.read()\n",
      "    # Clean text (remove any non-ascii friendly characters)\n",
      "    text = filter(lambda x: x in string.printable, text)\n",
      "    \n",
      "    # Extract one sentiment dictionary from this text block\n",
      "    new_sentiment = extract(text)\n",
      "    \n",
      "    #Only record the worst\n",
      "    if new_sentiment['polarity'] < sentiment['polarity']:\n",
      "        sentiment = new_sentiment"
     ],
     "language": "python",
     "metadata": {},
     "outputs": [
      {
       "output_type": "stream",
       "stream": "stdout",
       "text": [
        "processing domain:  0pointer.de\n",
        "processing domain: "
       ]
      },
      {
       "output_type": "stream",
       "stream": "stdout",
       "text": [
        " 0pointer.de\n",
        "processing domain:  0pointer.de\n",
        "processing domain:  100.luciasoto.es\n",
        "processing domain:  1001ilmu.blogspot.com\n",
        "processing domain:  100grana.wordpress.com\n",
        "processing domain:  1013theriver.com\n",
        "processing domain:  1019litefm.cbslocal.com\n",
        "processing domain:  1027kord.com\n",
        "processing domain:  102jamzorlando.cbslocal.com\n",
        "processing domain:  102jamzorlando.cbslocal.com\n",
        "processing domain:  1037theloon.com\n",
        "processing domain:  1079ishot.com\n",
        "processing domain:  1079ishot.com\n",
        "processing domain:  1079ishot.com\n",
        "processing domain:  121space.com\n",
        "processing domain:  123-reg-expired.co.uk\n",
        "processing domain:  12step.org\n",
        "processing domain:  1340thefan.com\n",
        "processing domain:  17hmr.net\n",
        "processing domain:  17hmr.net\n",
        "processing domain:  18milesperhour.tumblr.com\n",
        "processing domain:  1heckofaguy.com\n",
        "processing domain: "
       ]
      },
      {
       "output_type": "stream",
       "stream": "stdout",
       "text": [
        " 1x.com\n",
        "processing domain:  1x.com\n",
        "processing domain:  2006-2009.littleone.ru\n",
        "processing domain:  200inparadise.blogspot.com\n",
        "processing domain:  2012.scriptfrenzy.org\n",
        "processing domain:  21secrets.com\n",
        "processing domain:  2509.tumblr.com\n",
        "processing domain:  2beerguys.com\n",
        "processing domain:  365jia.cn\n",
        "processing domain:  37g.tv\n",
        "processing domain: "
       ]
      },
      {
       "output_type": "stream",
       "stream": "stdout",
       "text": [
        " 3animalsextube.com\n",
        "processing domain:  3boysandadog.com\n",
        "processing domain:  42.elderporntube.com\n",
        "processing domain:  4rwws.blogspot.com\n",
        "processing domain: "
       ]
      },
      {
       "output_type": "stream",
       "stream": "stdout",
       "text": [
        " 500px.com\n",
        "processing domain:  500px.com\n",
        "processing domain:  500px.com\n",
        "processing domain:  506792.tumblr.com\n",
        "processing domain:  511.ky.gov\n",
        "processing domain:  511.ky.gov\n",
        "processing domain:  511.ky.gov\n",
        "processing domain:  511.ky.gov\n",
        "processing domain:  511.ky.gov\n",
        "processing domain:  511.ky.gov\n",
        "processing domain:  6dollarshirts.com\n",
        "processing domain:  6dollarshirts.com\n",
        "processing domain:  6dollarshirts.com\n",
        "processing domain:  6dollarshirts.com\n",
        "processing domain: "
       ]
      },
      {
       "output_type": "stream",
       "stream": "stdout",
       "text": [
        " 6dollarshirts.com\n",
        "processing domain:  710keel.com\n",
        "processing domain:  79.170.44.8\n",
        "processing domain:  7thgenerationproject.ning.com\n",
        "processing domain:  80breakfasts.blogspot.com\n",
        "processing domain: "
       ]
      },
      {
       "output_type": "stream",
       "stream": "stdout",
       "text": [
        " 89g.deviantart.com\n",
        "processing domain:  8tracks.com\n",
        "processing domain:  8tracks.com\n",
        "processing domain:  929thebull.com\n",
        "processing domain:  929theticket.com\n",
        "processing domain:  941theedge.com\n",
        "processing domain:  943thepoint.com\n",
        "processing domain:  961wodz.com\n",
        "processing domain:  961wodz.com\n",
        "processing domain:  963theblaze.com\n",
        "processing domain:  965ksom.com\n",
        "processing domain:  965tic.cbslocal.com\n",
        "processing domain:  96key.com\n",
        "processing domain:  987ampradio.cbslocal.com\n",
        "processing domain:  98kupd.com\n",
        "processing domain:  991fmtalk.com\n",
        "processing domain:  991thewhale.com\n",
        "processing domain:  995thex.com\n",
        "processing domain:  995thex.com\n",
        "processing domain:  999ktdy.com\n",
        "processing domain:  9bytz.com\n",
        "processing domain:  9sars9.tumblr.com\n",
        "processing domain:  9to5mac.com\n",
        "processing domain:  GAPComments@cirm.ca.gov\n",
        "processing domain:  Julia.Kirby@birmingham.gov.uk\n",
        "processing domain: "
       ]
      },
      {
       "output_type": "stream",
       "stream": "stdout",
       "text": [
        " Webmaster@westlinnoregon.gov\n",
        "processing domain:  a-friend-to-knit-with.blogspot.com\n",
        "processing domain: "
       ]
      },
      {
       "output_type": "stream",
       "stream": "stdout",
       "text": [
        " a-z-animals.com\n",
        "processing domain:  a.abcnews.com\n",
        "processing domain:  a2zhomeschooling.com\n",
        "processing domain:  aaker.com\n",
        "processing domain:  abc.go.com\n",
        "processing domain:  abc.go.com\n",
        "processing domain:  abc.go.com\n",
        "processing domain:  abc.go.com\n",
        "processing domain:  abc.go.com\n",
        "processing domain:  abc.go.com\n",
        "processing domain:  abc.go.com\n",
        "processing domain:  abcfamily.go.com\n",
        "processing domain:  abclocal.go.com\n",
        "processing domain:  abclocal.go.com\n",
        "processing domain:  abclocal.go.com\n",
        "processing domain:  abclocal.go.com\n",
        "processing domain: "
       ]
      },
      {
       "output_type": "stream",
       "stream": "stdout",
       "text": [
        " abclocal.go.com\n",
        "processing domain:  abclocal.go.com\n",
        "processing domain:  abcnews.go.com\n",
        "processing domain:  abcnews.go.com\n",
        "processing domain:  abcnews.go.com\n",
        "processing domain:  abcnews.go.com\n",
        "processing domain:  abcnews.go.com\n",
        "processing domain:  abcnews.go.com\n",
        "processing domain:  abcnews.go.com\n",
        "processing domain:  abcnews.go.com\n",
        "processing domain:  abcnews.go.com\n",
        "processing domain:  abcnews.go.com\n",
        "processing domain:  abcnews.go.com\n",
        "processing domain:  abcnews.go.com\n",
        "processing domain: "
       ]
      },
      {
       "output_type": "stream",
       "stream": "stdout",
       "text": [
        " abcnews.go.com\n",
        "processing domain:  abcnews.go.com\n",
        "processing domain:  abcnews.go.com\n",
        "processing domain:  abcnews.go.com\n",
        "processing domain:  abcnews.go.com\n",
        "processing domain:  abcnews.go.com\n",
        "processing domain:  abcvacuumwarehouse.com\n",
        "processing domain:  abcvacuumwarehouse.com\n",
        "processing domain:  abcvacuumwarehouse.com\n",
        "processing domain:  abcvacuumwarehouse.com\n",
        "processing domain: "
       ]
      },
      {
       "output_type": "stream",
       "stream": "stdout",
       "text": [
        " abcvacuumwarehouse.com\n",
        "processing domain:  abcvacuumwarehouse.com\n",
        "processing domain:  abigailerestaurant.com\n",
        "processing domain:  abmp3.com\n",
        "processing domain:  aboutgodandi.tumblr.com\n",
        "processing domain:  abovethelaw.com\n",
        "processing domain: "
       ]
      },
      {
       "output_type": "stream",
       "stream": "stdout",
       "text": [
        " abs.gov.au\n",
        "processing domain:  abs.gov.au\n",
        "processing domain:  absinthrill.blogspot.com\n",
        "processing domain:  absolutepunk.net\n",
        "processing domain: "
       ]
      },
      {
       "output_type": "stream",
       "stream": "stdout",
       "text": [
        " absolutepunk.net\n",
        "processing domain:  absolutepunk.net\n",
        "processing domain:  ac360.blogs.cnn.com\n",
        "processing domain: "
       ]
      },
      {
       "output_type": "stream",
       "stream": "stdout",
       "text": [
        " academia.stackexchange.com\n",
        "processing domain:  academiccommons.columbia.edu\n",
        "processing domain:  academiccommons.columbia.edu\n",
        "processing domain:  academiccommons.columbia.edu\n",
        "processing domain:  academicdepartments.musc.edu\n",
        "processing domain:  acanuckinoz.blogspot.com\n",
        "processing domain: "
       ]
      },
      {
       "output_type": "stream",
       "stream": "stdout",
       "text": [
        " accessceramics.org\n",
        "processing domain:  accidentalsexiness.wordpress.com\n",
        "processing domain:  acf.curbjaw.com\n",
        "processing domain:  acme.com\n",
        "processing domain:  acrodesigns.com\n",
        "processing domain:  acrosschiado.tumblr.com\n",
        "processing domain:  acrylnimbus.tumblr.com\n",
        "processing domain:  actegratuit.tumblr.com\n",
        "processing domain:  actian.com\n",
        "processing domain:  activerain.com\n",
        "processing domain:  activerain.com\n",
        "processing domain:  activerain.com\n",
        "processing domain: "
       ]
      },
      {
       "output_type": "stream",
       "stream": "stdout",
       "text": [
        " adam-iv.tumblr.com\n",
        "processing domain:  adamcooperf1.com\n",
        "processing domain:  addictedsin.tumblr.com\n",
        "processing domain:  addins.waow.com\n",
        "processing domain:  addins.whig.com\n",
        "processing domain:  addisonindependent.com\n",
        "processing domain:  adf.ly\n",
        "processing domain:  adherents.com\n",
        "processing domain:  adisornclassic.blogspot.com\n",
        "processing domain:  adler.edu\n",
        "processing domain:  admiredlyrics.com\n",
        "processing domain:  admission@evansville.edu\n",
        "processing domain:  adsoftheworld.com\n",
        "processing domain: "
       ]
      },
      {
       "output_type": "stream",
       "stream": "stdout",
       "text": [
        " adultfriendfinder.com\n",
        "processing domain:  adultfriendfinder.com\n",
        "processing domain:  adultfriendfinder.com\n",
        "processing domain:  adultfriendfinder.com\n",
        "processing domain:  adultfriendfinder.com\n",
        "processing domain:  adventure.nationalgeographic.com\n",
        "processing domain:  adventuregroup.org\n",
        "processing domain:  adventuresinsoftware.com\n",
        "processing domain:  advertiser-tribune.com\n",
        "processing domain:  advrider.com\n",
        "processing domain:  advrider.com\n",
        "processing domain:  advrider.com\n",
        "processing domain: "
       ]
      },
      {
       "output_type": "stream",
       "stream": "stdout",
       "text": [
        " aei.org\n",
        "processing domain:  aei.pitt.edu\n",
        "processing domain:  aei.pitt.edu\n",
        "processing domain:  afarensis99.wordpress.com\n",
        "processing domain: "
       ]
      },
      {
       "output_type": "stream",
       "stream": "stdout",
       "text": [
        " afbase.com\n",
        "processing domain:  affaires.lapresse.ca\n",
        "processing domain:  affiliatesdirectory.com\n",
        "processing domain:  aforeignaffair.com\n",
        "processing domain:  africa-middle-east.beyerdynamic.com\n",
        "processing domain:  africanartists.blogspot.com\n",
        "processing domain:  africaymca.org\n",
        "processing domain:  afterschoolartsprogram.org\n",
        "processing domain: "
       ]
      },
      {
       "output_type": "stream",
       "stream": "stdout",
       "text": [
        " ag.arizona.edu\n",
        "processing domain:  agalacticparadise.tumblr.com\n",
        "processing domain:  aggie5kku.exteen.com\n",
        "processing domain:  agile.dzone.com\n",
        "processing domain:  agplaythings.proboards.com\n",
        "processing domain:  agplaythings.proboards.com\n",
        "processing domain:  agra.nic.in\n",
        "processing domain:  aguabendita.com.co\n",
        "processing domain: "
       ]
      },
      {
       "output_type": "stream",
       "stream": "stdout",
       "text": [
        " ahyesresidency.blogspot.com\n",
        "processing domain:  aianekarla.com\n",
        "processing domain:  aikawa.com.ar\n",
        "processing domain: "
       ]
      },
      {
       "output_type": "stream",
       "stream": "stdout",
       "text": [
        " ainonline.com\n",
        "processing domain:  aip.org\n",
        "processing domain:  airandspace.si.edu\n",
        "processing domain:  airandspace.si.edu\n",
        "processing domain:  airhidupblog.blogspot.com\n",
        "processing domain:  aisb.org.uk\n",
        "processing domain:  ajga.org\n",
        "processing domain: "
       ]
      },
      {
       "output_type": "stream",
       "stream": "stdout",
       "text": [
        " ajilbab.com\n",
        "processing domain:  ajilbab.com\n",
        "processing domain:  ajimachmudi.wordpress.com\n",
        "processing domain:  ajimagery.4ormat.com\n",
        "processing domain:  ajp.psychiatryonline.org\n",
        "processing domain: "
       ]
      },
      {
       "output_type": "stream",
       "stream": "stdout",
       "text": [
        " akelpad.sourceforge.net\n",
        "processing domain:  akhawat.islamway.net\n",
        "processing domain:  akihabaranews.com\n",
        "processing domain:  akihabaranews.com\n",
        "processing domain:  aklundh.se\n",
        "processing domain:  akron.citysearch.com\n",
        "processing domain:  akron.citysearch.com\n",
        "processing domain:  al-ummah-islamic-media.blogspot.com\n",
        "processing domain:  al.adpay.com\n",
        "processing domain:  alabamabeachevents.net\n",
        "processing domain: "
       ]
      },
      {
       "output_type": "stream",
       "stream": "stdout",
       "text": [
        " alaskaregional.com\n",
        "processing domain:  alatest.com\n",
        "processing domain:  alatest.com\n",
        "processing domain:  albany.citysearch.com\n",
        "processing domain:  albany.craigslist.org\n",
        "processing domain:  albany.patch.com\n",
        "processing domain:  albotas.com\n",
        "processing domain:  aleklett.wordpress.com\n",
        "processing domain: "
       ]
      },
      {
       "output_type": "stream",
       "stream": "stdout",
       "text": [
        " alethonews.wordpress.com\n",
        "processing domain: "
       ]
      },
      {
       "output_type": "stream",
       "stream": "stdout",
       "text": [
        " alexandrite-rose.deviantart.com\n",
        "processing domain:  alexisyoung.tumblr.com\n",
        "processing domain:  alexshaikh.com\n",
        "processing domain:  alextimes.com\n",
        "processing domain:  alfred.stlouisfed.org\n",
        "processing domain:  alfred.stlouisfed.org\n",
        "processing domain:  alfred.stlouisfed.org\n",
        "processing domain:  alfred.stlouisfed.org\n",
        "processing domain:  alibi.com\n",
        "processing domain: "
       ]
      },
      {
       "output_type": "stream",
       "stream": "stdout",
       "text": [
        " alibi.com\n",
        "processing domain:  alibi.com\n",
        "processing domain:  alibi.com\n",
        "processing domain:  alicecarrier.tumblr.com\n",
        "processing domain:  alienlovespredator.com\n",
        "processing domain:  alienlovespredator.com\n",
        "processing domain: "
       ]
      },
      {
       "output_type": "stream",
       "stream": "stdout",
       "text": [
        " alienlovespredator.com\n",
        "processing domain:  alike.jp\n",
        "processing domain:  alisoviejo.patch.com\n",
        "processing domain:  aliveanimals.com\n",
        "processing domain: "
       ]
      },
      {
       "output_type": "stream",
       "stream": "stdout",
       "text": [
        " all-granite.com\n",
        "processing domain:  all-those-little-things.polyvore.com\n",
        "processing domain:  allaboutmygames.blogspot.com\n",
        "processing domain:  allafrica.com\n",
        "processing domain:  allafrica.com\n",
        "processing domain:  allart.biz\n",
        "processing domain:  allelbows.com\n",
        "processing domain:  allentown.citysearch.com\n",
        "processing domain:  allentown.citysearch.com\n",
        "processing domain:  allergicliving.com\n",
        "processing domain:  allnurses.com\n",
        "processing domain:  allnurses.com\n",
        "processing domain:  allnurses.com\n",
        "processing domain:  allport.com\n",
        "processing domain:  allreaders.com\n",
        "processing domain: "
       ]
      },
      {
       "output_type": "stream",
       "stream": "stdout",
       "text": [
        " allrecipes.com\n",
        "processing domain:  allrecipes.com\n",
        "processing domain:  allrecipes.com\n",
        "processing domain:  allrecipes.com\n",
        "processing domain:  allrecipes.com\n",
        "processing domain:  allrecipes.com\n",
        "processing domain: "
       ]
      },
      {
       "output_type": "stream",
       "stream": "stdout",
       "text": [
        " allrecipes.com\n",
        "processing domain:  allrecipes.nl\n",
        "processing domain:  allrecipes.pl\n",
        "processing domain:  allstuffandstuff.deviantart.com\n",
        "processing domain: "
       ]
      },
      {
       "output_type": "stream",
       "stream": "stdout",
       "text": [
        " allthingsphillysports.blogspot.com\n",
        "processing domain:  alowcountrywed.com\n",
        "processing domain:  als.wikipedia.org\n",
        "processing domain:  alt.com\n",
        "processing domain:  alt.com\n",
        "processing domain:  alt.com\n",
        "processing domain:  alt.com\n",
        "processing domain:  alt.com\n",
        "processing domain:  alt.com\n",
        "processing domain:  alt.com\n",
        "processing domain:  alta.org\n",
        "processing domain:  alta.org\n",
        "processing domain:  altamira.com\n",
        "processing domain:  altamiranyc.blogspot.com\n",
        "processing domain: "
       ]
      },
      {
       "output_type": "stream",
       "stream": "stdout",
       "text": [
        " alternativeliterature.tumblr.com\n",
        "processing domain:  althouse.blogspot.com\n",
        "processing domain: "
       ]
      },
      {
       "output_type": "stream",
       "stream": "stdout",
       "text": [
        " althouse.blogspot.com\n",
        "processing domain: "
       ]
      },
      {
       "output_type": "stream",
       "stream": "stdout",
       "text": [
        " althouse.blogspot.com\n",
        "processing domain: "
       ]
      },
      {
       "output_type": "stream",
       "stream": "stdout",
       "text": [
        " althouse.blogspot.com\n",
        "processing domain: "
       ]
      },
      {
       "output_type": "stream",
       "stream": "stdout",
       "text": [
        " altoonaherald.desmoinesregister.com\n",
        "processing domain:  altruismofilantropico.blogspot.com\n",
        "processing domain: "
       ]
      },
      {
       "output_type": "stream",
       "stream": "stdout",
       "text": [
        " always.ejwsites.net\n",
        "processing domain:  always.ejwsites.net\n",
        "processing domain:  always.ejwsites.net\n",
        "processing domain:  amandapalmer.tumblr.com\n",
        "processing domain:  amantesdoesporte.com\n",
        "processing domain:  amarillo.com\n",
        "processing domain:  amarillo.com\n",
        "processing domain:  amazingplans.com\n",
        "processing domain:  amazingplans.com\n",
        "processing domain:  amazingplans.com\n",
        "processing domain:  amazingplans.com\n",
        "processing domain:  amazingplans.com\n",
        "processing domain:  amazingworksheets.blogspot.com\n",
        "processing domain:  ameblo.jp\n",
        "processing domain:  americanart.si.edu\n",
        "processing domain:  americanart.si.edu\n",
        "processing domain: "
       ]
      },
      {
       "output_type": "stream",
       "stream": "stdout",
       "text": [
        " americanpowerblog.blogspot.com\n",
        "processing domain:  americanshipper.com\n",
        "processing domain: "
       ]
      },
      {
       "output_type": "stream",
       "stream": "stdout",
       "text": [
        " americanwindsurfingtour.com\n",
        "processing domain:  americanwindsurfingtour.com\n",
        "processing domain:  americanwoodworker.com\n",
        "processing domain:  americanwoodworker.com\n",
        "processing domain:  americanwoodworker.com\n",
        "processing domain:  americareads.blogspot.com\n",
        "processing domain:  ametsoc.org\n",
        "processing domain:  amhistory.si.edu\n",
        "processing domain:  amigos.com\n",
        "processing domain:  amigos.com\n",
        "processing domain:  amigotw.com\n",
        "processing domain: "
       ]
      },
      {
       "output_type": "stream",
       "stream": "stdout",
       "text": [
        " amivac.com\n",
        "processing domain:  amp.cbslocal.com\n",
        "processing domain:  ams.org\n",
        "processing domain:  amstardmc.com\n",
        "processing domain:  amsterdam.citymundo.com\n",
        "processing domain: "
       ]
      },
      {
       "output_type": "stream",
       "stream": "stdout",
       "text": [
        " amsterdam2012.fiba.com\n",
        "processing domain:  amsterdamnews.com\n",
        "processing domain:  amylynn1313.blogspot.com\n",
        "processing domain:  amyschumer.com\n",
        "processing domain:  an.wikipedia.org\n",
        "processing domain:  anabolicminds.com\n",
        "processing domain:  anabolicminds.com\n",
        "processing domain:  anabolicminds.com\n",
        "processing domain:  anabolicminds.com\n",
        "processing domain:  anabolicminds.com\n",
        "processing domain:  anabolicminds.com\n",
        "processing domain:  anabolicminds.com\n",
        "processing domain:  analogsheep.com\n",
        "processing domain:  anandtech.com\n",
        "processing domain: "
       ]
      },
      {
       "output_type": "stream",
       "stream": "stdout",
       "text": [
        " anandtech.com\n",
        "processing domain:  anarkismo.net\n",
        "processing domain: "
       ]
      },
      {
       "output_type": "stream",
       "stream": "stdout",
       "text": [
        " anatanacom.blogspot.com\n",
        "processing domain: "
       ]
      },
      {
       "output_type": "stream",
       "stream": "stdout",
       "text": [
        " anbg.gov.au\n",
        "processing domain:  anchan.lib.ku.ac.th\n",
        "processing domain:  anchan.lib.ku.ac.th\n",
        "processing domain:  anchorage.citysearch.com\n",
        "processing domain:  anchorage.citysearch.com\n",
        "processing domain:  ancient.eu.com\n",
        "processing domain:  andheartishardtotranslate.tumblr.com\n",
        "processing domain:  android-apps.com\n",
        "processing domain:  android-apps.com\n",
        "processing domain: "
       ]
      },
      {
       "output_type": "stream",
       "stream": "stdout",
       "text": [
        " android-apps.com\n",
        "processing domain:  android-apps.com\n",
        "processing domain:  android-phones.ca\n",
        "processing domain:  android.stackexchange.com\n",
        "processing domain:  android.stackexchange.com\n",
        "processing domain:  android.stackexchange.com\n",
        "processing domain:  android.stackexchange.com\n",
        "processing domain:  androidandme.com\n",
        "processing domain: "
       ]
      },
      {
       "output_type": "stream",
       "stream": "stdout",
       "text": [
        " androidandme.com\n",
        "processing domain:  androidandme.com\n",
        "processing domain:  androidcommunity.com\n",
        "processing domain:  androidforums.com\n",
        "processing domain:  androidforums.com\n",
        "processing domain:  androidforums.com\n",
        "processing domain:  androidmixer.com\n",
        "processing domain:  androidxiphone.com\n",
        "processing domain:  andysautosport.com\n",
        "processing domain:  andysautosport.com\n",
        "processing domain:  andysautosport.com\n",
        "processing domain:  andysblackhole.blogspot.com\n",
        "processing domain: "
       ]
      },
      {
       "output_type": "stream",
       "stream": "stdout",
       "text": [
        " anecdotage.com\n",
        "processing domain:  ang.wikipedia.org\n",
        "processing domain:  angelrosemarie.tumblr.com\n",
        "processing domain:  angels.auction.mlb.com\n",
        "processing domain:  angiescircus.blogspot.com\n",
        "processing domain: "
       ]
      },
      {
       "output_type": "stream",
       "stream": "stdout",
       "text": [
        " angkajitu.net\n",
        "processing domain:  anglicancommunion.org\n",
        "processing domain:  anglo-celtic-connections.blogspot.com\n",
        "processing domain:  anglo-celtic-connections.blogspot.com\n",
        "processing domain:  angryblackbitch.blogspot.com\n",
        "processing domain: "
       ]
      },
      {
       "output_type": "stream",
       "stream": "stdout",
       "text": [
        " anickname4love.tumblr.com\n",
        "processing domain:  animaldiversity.ummz.umich.edu\n",
        "processing domain:  animaldiversity.ummz.umich.edu\n",
        "processing domain:  animaldiversity.ummz.umich.edu\n",
        "processing domain:  animaldiversity.ummz.umich.edu\n",
        "processing domain:  animaldiversity.ummz.umich.edu\n",
        "processing domain:  animaldiversity.ummz.umich.edu\n",
        "processing domain: "
       ]
      },
      {
       "output_type": "stream",
       "stream": "stdout",
       "text": [
        " animaldiversity.ummz.umich.edu\n",
        "processing domain:  animaldiversity.ummz.umich.edu\n",
        "processing domain:  animalhumanesociety.org\n",
        "processing domain:  animalnewyork.com\n",
        "processing domain:  animalnewyork.com\n",
        "processing domain:  animation.about.com\n",
        "processing domain:  animeonly.org\n",
        "processing domain:  animeonly.org\n",
        "processing domain:  animeonly.org\n",
        "processing domain:  animeonly.org\n",
        "processing domain:  animeonly.org\n",
        "processing domain:  animeonly.org\n",
        "processing domain:  animesweaters.tumblr.com\n",
        "processing domain:  annals.org\n",
        "processing domain: "
       ]
      },
      {
       "output_type": "stream",
       "stream": "stdout",
       "text": [
        " annals.org\n",
        "processing domain:  annals.org\n",
        "processing domain:  annapolisroyalheritage.blogspot.com\n",
        "processing domain:  annarbor.craigslist.org\n",
        "processing domain:  annarbor.craigslist.org\n",
        "processing domain:  annarborobserver.com\n",
        "processing domain:  annayanova.bandcamp.com\n",
        "processing domain:  annehathawayfan.com\n",
        "processing domain:  annieward.tumblr.com\n",
        "processing domain:  answers.christianbook.com\n",
        "processing domain: "
       ]
      },
      {
       "output_type": "stream",
       "stream": "stdout",
       "text": [
        " answers.christianbook.com\n",
        "processing domain:  answers.eastbay.com\n",
        "processing domain:  answers.northerntool.com\n",
        "processing domain:  antiquesandfineart.com\n",
        "processing domain:  antiwar.com\n",
        "processing domain:  antoine.frostburg.edu\n",
        "processing domain:  antonnews.com\n",
        "processing domain:  anxietyforum.net\n",
        "processing domain:  aol.careerbuilder.com\n",
        "processing domain:  apartments.oodle.com\n",
        "processing domain: "
       ]
      },
      {
       "output_type": "stream",
       "stream": "stdout",
       "text": [
        " apatheticlemming.blogspot.com\n",
        "processing domain: "
       ]
      },
      {
       "output_type": "stream",
       "stream": "stdout",
       "text": [
        " apbweb.com\n",
        "processing domain:  apbweb.com\n",
        "processing domain:  apbweb.com\n",
        "processing domain:  apbweb.com\n",
        "processing domain:  apbweb.com\n",
        "processing domain:  apbweb.com\n",
        "processing domain:  aphrochic.blogspot.com\n",
        "processing domain:  api.artistlink.com\n",
        "processing domain:  api.cde.ca.gov\n",
        "processing domain:  api.pgxn.org\n",
        "processing domain:  apidock.com\n",
        "processing domain:  apidock.com\n",
        "processing domain:  apidock.com\n",
        "processing domain:  apidock.com\n",
        "processing domain:  apologeticspress.org\n",
        "processing domain:  apolyton.net\n",
        "processing domain:  apolyton.net\n",
        "processing domain:  apomorphe.tumblr.com\n",
        "processing domain:  apothica.com\n",
        "processing domain:  apothica.com\n",
        "processing domain:  apothica.com\n",
        "processing domain:  app.amazlet.com\n",
        "processing domain:  app.cheezburger.com\n",
        "processing domain: "
       ]
      },
      {
       "output_type": "stream",
       "stream": "stdout",
       "text": [
        " app.cheezburger.com\n",
        "processing domain:  app.razorplanet.com\n",
        "processing domain:  appcrawlr.com\n",
        "processing domain:  appdb.winehq.org\n",
        "processing domain:  apple.stackexchange.com\n",
        "processing domain:  apple.stackexchange.com\n",
        "processing domain:  apple.stackexchange.com\n",
        "processing domain:  apple.stackexchange.com\n",
        "processing domain: "
       ]
      },
      {
       "output_type": "stream",
       "stream": "stdout",
       "text": [
        " apple.stackexchange.com\n",
        "processing domain:  apple.stackexchange.com\n",
        "processing domain:  apple.stackexchange.com\n",
        "processing domain:  appleinsider.com\n",
        "processing domain:  appleinsider.com\n",
        "processing domain:  appleinsider.com\n",
        "processing domain:  appleinsider.com\n",
        "processing domain:  appleinsider.com\n",
        "processing domain:  applesofgold.com\n",
        "processing domain: "
       ]
      },
      {
       "output_type": "stream",
       "stream": "stdout",
       "text": [
        " applesofgold.com\n",
        "processing domain:  appleweblog.com\n",
        "processing domain:  appliancejunk.com\n",
        "processing domain:  appliedresearch.cancer.gov\n",
        "processing domain:  apps.carleton.edu\n",
        "processing domain:  apps.carleton.edu\n",
        "processing domain:  apps.carleton.edu\n",
        "processing domain:  apps.carleton.edu\n",
        "processing domain:  apps.store.aptoide.com\n",
        "processing domain:  apps.tahoedailytribune.com\n",
        "processing domain:  apps.vaildaily.com\n",
        "processing domain:  appscovery.com\n",
        "processing domain:  appshopper.com\n",
        "processing domain: "
       ]
      },
      {
       "output_type": "stream",
       "stream": "stdout",
       "text": [
        " appview.mobilesecurity.com\n",
        "processing domain:  appworld.blackberry.com\n",
        "processing domain:  appworld.blackberry.com\n",
        "processing domain:  appworld.blackberry.com\n",
        "processing domain:  appworld.blackberry.com\n",
        "processing domain: "
       ]
      },
      {
       "output_type": "stream",
       "stream": "stdout",
       "text": [
        " aprilfoolsdayontheweb.com\n",
        "processing domain: "
       ]
      },
      {
       "output_type": "stream",
       "stream": "stdout",
       "text": [
        " aprilfoolsdayontheweb.com\n",
        "processing domain:  ar.answers.yahoo.com\n",
        "processing domain:  ar.finanzas.yahoo.com\n",
        "processing domain:  ar.wikipedia.org\n",
        "processing domain:  ar.wikipedia.org\n",
        "processing domain:  ar.wikipedia.org\n",
        "processing domain:  ar.wiktionary.org\n",
        "processing domain:  arabic.rt.com\n",
        "processing domain:  arachno2x.tumblr.com\n",
        "processing domain:  aran.library.nuigalway.ie\n",
        "processing domain:  arc.boardofstudies.nsw.edu.au\n",
        "processing domain:  arcadesushi.com\n",
        "processing domain:  archderm.jamanetwork.com\n",
        "processing domain:  archery.org\n",
        "processing domain:  archinect.com\n",
        "processing domain:  archinect.com\n",
        "processing domain: "
       ]
      },
      {
       "output_type": "stream",
       "stream": "stdout",
       "text": [
        " archinect.com\n",
        "processing domain:  archinect.com\n",
        "processing domain:  archinte.jamanetwork.com\n",
        "processing domain: "
       ]
      },
      {
       "output_type": "stream",
       "stream": "stdout",
       "text": [
        " architects.dzone.com\n",
        "processing domain:  archive.13wmaz.com\n",
        "processing domain:  archive.bebo.com\n",
        "processing domain:  archive.benchmarkreviews.com\n",
        "processing domain:  archive.calbar.ca.gov\n",
        "processing domain:  archive.freecapitalists.org\n",
        "processing domain: "
       ]
      },
      {
       "output_type": "stream",
       "stream": "stdout",
       "text": [
        " archive.freecapitalists.org\n",
        "processing domain:  archive.freecapitalists.org\n",
        "processing domain:  archive.freecapitalists.org\n",
        "processing domain:  archive.freecapitalists.org\n",
        "processing domain:  archive.friday-ad.co.uk\n",
        "processing domain: "
       ]
      },
      {
       "output_type": "stream",
       "stream": "stdout",
       "text": [
        " archive.hawaaworld.com\n",
        "processing domain:  archive.kare11.com\n",
        "processing domain:  archive.ksdk.com\n",
        "processing domain:  archive.ksdk.com\n",
        "processing domain:  archive.ksdk.com\n",
        "processing domain:  archive.midrange.com\n",
        "processing domain:  archive.org\n",
        "processing domain:  archive.org\n",
        "processing domain: "
       ]
      },
      {
       "output_type": "stream",
       "stream": "stdout",
       "text": [
        " archive.org\n",
        "processing domain:  archive.org\n",
        "processing domain:  archive.org\n",
        "processing domain:  archive.org\n",
        "processing domain:  archive.org\n",
        "processing domain:  archive.org\n",
        "processing domain: "
       ]
      },
      {
       "output_type": "stream",
       "stream": "stdout",
       "text": [
        " archive.org\n",
        "processing domain:  archive.org\n",
        "processing domain:  archive.railsforum.com\n",
        "processing domain:  archive.railsforum.com\n",
        "processing domain:  archive.slickdeals.net\n",
        "processing domain: "
       ]
      },
      {
       "output_type": "stream",
       "stream": "stdout",
       "text": [
        " archive.sltrib.com\n",
        "processing domain:  archive.wgrz.com\n",
        "processing domain:  archive.wgrz.com\n",
        "processing domain:  archive.wgrz.com\n",
        "processing domain:  archive.wkyc.com\n",
        "processing domain:  archiver.rootsweb.ancestry.com\n",
        "processing domain:  archiver.rootsweb.ancestry.com\n",
        "processing domain:  archiver.rootsweb.ancestry.com\n",
        "processing domain:  archiver.rootsweb.ancestry.com\n",
        "processing domain:  archives.citypaper.net\n",
        "processing domain: "
       ]
      },
      {
       "output_type": "stream",
       "stream": "stdout",
       "text": [
        " archives.gentoo.org\n",
        "processing domain:  archives.gentoo.org\n",
        "processing domain:  archives.lib.state.ma.us\n",
        "processing domain:  archives.lib.state.ma.us\n",
        "processing domain:  archives.lib.state.ma.us\n",
        "processing domain:  archives.lincolndailynews.com\n",
        "processing domain:  archives.neohapsis.com\n",
        "processing domain:  archives.scouter.com\n",
        "processing domain:  archives.scouter.com\n",
        "processing domain:  archives.starbulletin.com\n",
        "processing domain: "
       ]
      },
      {
       "output_type": "stream",
       "stream": "stdout",
       "text": [
        " archives.state.al.us\n",
        "processing domain:  archlinux.me\n",
        "processing domain:  archvol@sos.mo.gov\n",
        "processing domain:  arcteryx.com\n",
        "processing domain: "
       ]
      },
      {
       "output_type": "stream",
       "stream": "stdout",
       "text": [
        " arcteryx.com\n",
        "processing domain:  arena.gamespy.com\n",
        "processing domain:  arhiiv.sport.err.ee\n",
        "processing domain: "
       ]
      },
      {
       "output_type": "stream",
       "stream": "stdout",
       "text": [
        " arizona.diamondbacks.mlb.com\n",
        "processing domain:  arizona.diamondbacks.mlb.com\n",
        "processing domain:  arizonasports.com\n",
        "processing domain:  arkansas.hometownlocator.com\n",
        "processing domain:  arkivverket.no\n",
        "processing domain:  arlenetaylor.org\n",
        "processing domain:  arlington.patch.com\n",
        "processing domain: "
       ]
      },
      {
       "output_type": "stream",
       "stream": "stdout",
       "text": [
        " arran.wordpress.com\n",
        "processing domain:  ars.usda.gov\n",
        "processing domain:  arstechnica.com\n",
        "processing domain: "
       ]
      },
      {
       "output_type": "stream",
       "stream": "stdout",
       "text": [
        " arstechnica.com\n",
        "processing domain: "
       ]
      },
      {
       "output_type": "stream",
       "stream": "stdout",
       "text": [
        " arstechnica.com\n",
        "processing domain: "
       ]
      },
      {
       "output_type": "stream",
       "stream": "stdout",
       "text": [
        " arstechnica.com\n",
        "processing domain: "
       ]
      },
      {
       "output_type": "stream",
       "stream": "stdout",
       "text": [
        " arstechnica.com\n",
        "processing domain: "
       ]
      },
      {
       "output_type": "stream",
       "stream": "stdout",
       "text": [
        " arstechnica.com\n",
        "processing domain: "
       ]
      },
      {
       "output_type": "stream",
       "stream": "stdout",
       "text": [
        " arstechnica.com\n",
        "processing domain: "
       ]
      },
      {
       "output_type": "stream",
       "stream": "stdout",
       "text": [
        " arstechnica.com\n",
        "processing domain: "
       ]
      },
      {
       "output_type": "stream",
       "stream": "stdout",
       "text": [
        " arstechnica.com\n",
        "processing domain:  artdaily.com\n",
        "processing domain:  artdaily.com\n",
        "processing domain: "
       ]
      },
      {
       "output_type": "stream",
       "stream": "stdout",
       "text": [
        " artfacts.net\n",
        "processing domain:  artfacts.net\n",
        "processing domain:  artfacts.net\n",
        "processing domain:  articles.chicagotribune.com\n",
        "processing domain:  articles.chicagotribune.com\n",
        "processing domain:  articles.chicagotribune.com\n",
        "processing domain:  articles.chicagotribune.com\n",
        "processing domain:  articles.chicagotribune.com\n",
        "processing domain:  articles.chicagotribune.com\n",
        "processing domain:  articles.courant.com\n",
        "processing domain:  articles.economictimes.indiatimes.com\n",
        "processing domain:  articles.economictimes.indiatimes.com\n",
        "processing domain:  articles.herald-mail.com\n",
        "processing domain:  articles.latimes.com\n",
        "processing domain:  articles.latimes.com\n",
        "processing domain:  articles.latimes.com\n",
        "processing domain:  articles.latimes.com\n",
        "processing domain:  articles.latimes.com\n",
        "processing domain:  articles.mcall.com\n",
        "processing domain:  articles.philly.com\n",
        "processing domain:  articles.timesofindia.indiatimes.com\n",
        "processing domain:  articles.timesofindia.indiatimes.com\n",
        "processing domain:  articles.timesofindia.indiatimes.com\n",
        "processing domain:  articles.timesofindia.indiatimes.com\n",
        "processing domain:  articles.timesofindia.indiatimes.com\n",
        "processing domain:  articlesforuse.com\n",
        "processing domain:  articulo.mercadolibre.com.ve\n",
        "processing domain:  artistsandtheirwork.tumblr.com\n",
        "processing domain:  artoftheautomobile.tumblr.com\n",
        "processing domain:  artofthepalehose.mlblogs.com\n",
        "processing domain:  artpromos.com\n",
        "processing domain:  artradarjournal.com\n",
        "processing domain:  arts.gov\n",
        "processing domain:  artsofcitizenship.umich.edu\n",
        "processing domain: "
       ]
      },
      {
       "output_type": "stream",
       "stream": "stdout",
       "text": [
        " aseroff.tumblr.com\n",
        "processing domain:  asexualnews.com\n",
        "processing domain:  asfr.wikia.com\n",
        "processing domain:  ashgs.tumblr.com\n",
        "processing domain:  asia-pacific-india.beyerdynamic.com\n",
        "processing domain:  asiafriendfinder.com\n",
        "processing domain:  asian-entrepreneurs.meetup.com\n",
        "processing domain:  asiancorrespondent.com\n",
        "processing domain:  asischem.com\n",
        "processing domain:  ask.metafilter.com\n",
        "processing domain: "
       ]
      },
      {
       "output_type": "stream",
       "stream": "stdout",
       "text": [
        " ask.metafilter.com\n",
        "processing domain:  askubuntu.com\n",
        "processing domain:  askubuntu.com\n",
        "processing domain:  askubuntu.com\n",
        "processing domain: "
       ]
      },
      {
       "output_type": "stream",
       "stream": "stdout",
       "text": [
        " askubuntu.com\n",
        "processing domain:  askubuntu.com\n",
        "processing domain:  askubuntu.com\n",
        "processing domain:  askubuntu.com\n",
        "processing domain:  aspadvice.com\n",
        "processing domain:  aspasios.com\n",
        "processing domain:  assembly.state.ny.us\n",
        "processing domain:  astore.amazon.co.uk\n",
        "processing domain:  astore.amazon.co.uk\n",
        "processing domain:  astore.amazon.de\n",
        "processing domain:  astrobiology.com\n",
        "processing domain:  astrogeology.usgs.gov\n",
        "processing domain:  astronautix.com\n",
        "processing domain: "
       ]
      },
      {
       "output_type": "stream",
       "stream": "stdout",
       "text": [
        " aswathdamodaran.blogspot.ca\n",
        "processing domain:  asylums.insanejournal.com\n",
        "processing domain:  ataraxiamultiple.blogspot.com\n",
        "processing domain: "
       ]
      },
      {
       "output_type": "stream",
       "stream": "stdout",
       "text": [
        " atcc.org\n",
        "processing domain:  atelierpapillon.over-blog.fr\n",
        "processing domain:  atheistexperience.blogspot.com\n",
        "processing domain: "
       ]
      },
      {
       "output_type": "stream",
       "stream": "stdout",
       "text": [
        " athletics.svu.edu\n",
        "processing domain:  athome.kimvallee.com\n",
        "processing domain:  athome.kimvallee.com\n",
        "processing domain:  athomium.blogspot.com\n",
        "processing domain:  atlanta.bbb.org\n",
        "processing domain: "
       ]
      },
      {
       "output_type": "stream",
       "stream": "stdout",
       "text": [
        " atlanta.cbslocal.com\n",
        "processing domain:  atlanta.cbslocal.com\n",
        "processing domain:  atlanta.citysearch.com\n",
        "processing domain:  atlanta.citysearch.com\n",
        "processing domain:  atlanta.citysearch.com\n",
        "processing domain:  atlanta.citysearch.com\n",
        "processing domain:  atlanta.craigslist.org\n",
        "processing domain:  atlanta.craigslist.org\n",
        "processing domain:  atlanta.craigslist.org\n",
        "processing domain:  atlanticcity.citysearch.com\n",
        "processing domain:  atlanticyachtandship.com\n",
        "processing domain:  atlasprotection.dk\n",
        "processing domain:  atlasshrugs2000.typepad.com\n",
        "processing domain:  atomeromu.hu\n",
        "processing domain: "
       ]
      },
      {
       "output_type": "stream",
       "stream": "stdout",
       "text": [
        " atomicathletic.com\n",
        "processing domain:  atrl.net\n",
        "processing domain:  attaweel.com\n",
        "processing domain:  attractions.uptake.com\n",
        "processing domain:  au.billion.com\n",
        "processing domain:  au.eurosport.com\n",
        "processing domain:  au.news.yahoo.com\n",
        "processing domain:  au.sys-con.com\n",
        "processing domain: "
       ]
      },
      {
       "output_type": "stream",
       "stream": "stdout",
       "text": [
        " au.sys-con.com\n",
        "processing domain:  auburn.citysearch.com\n",
        "processing domain:  auburn.rivals.com\n",
        "processing domain:  auburn.scout.com\n",
        "processing domain:  auburnfbc.org\n",
        "processing domain:  auction.mlb.com\n",
        "processing domain:  audiko.net\n",
        "processing domain: "
       ]
      },
      {
       "output_type": "stream",
       "stream": "stdout",
       "text": [
        " audiko.net\n",
        "processing domain:  audiko.net\n",
        "processing domain:  audiko.net\n",
        "processing domain:  audioboo.fm\n",
        "processing domain:  audioboo.fm\n",
        "processing domain:  audiojungle.net\n",
        "processing domain:  audiojungle.net\n",
        "processing domain:  audiojungle.net\n",
        "processing domain: "
       ]
      },
      {
       "output_type": "stream",
       "stream": "stdout",
       "text": [
        " audiojungle.net\n",
        "processing domain:  audiojungle.net\n",
        "processing domain:  audiojungle.net\n",
        "processing domain:  audiojungle.net\n",
        "processing domain:  audiojungle.net\n",
        "processing domain:  audiojungle.net\n",
        "processing domain:  audiojungle.net\n",
        "processing domain: "
       ]
      },
      {
       "output_type": "stream",
       "stream": "stdout",
       "text": [
        " audiosalad.fania.com\n",
        "processing domain:  audreymagazine.com\n",
        "processing domain:  augusta.citysearch.com\n",
        "processing domain:  augustacrime.com\n",
        "processing domain:  augustahistorictheatre.com\n",
        "processing domain:  auntieknickers.blogspot.com\n",
        "processing domain: "
       ]
      },
      {
       "output_type": "stream",
       "stream": "stdout",
       "text": [
        " aura.abdn.ac.uk\n",
        "processing domain:  aura.abdn.ac.uk\n",
        "processing domain:  aura.abdn.ac.uk\n",
        "processing domain:  aussiebirding.wildiaries.com\n",
        "processing domain:  austenprose.com\n",
        "processing domain: "
       ]
      },
      {
       "output_type": "stream",
       "stream": "stdout",
       "text": [
        " austin.citysearch.com\n",
        "processing domain:  austin.citysearch.com\n",
        "processing domain:  austin.citysearch.com\n",
        "processing domain:  austin.ynn.com\n",
        "processing domain:  australian-charts.com\n",
        "processing domain:  austriancharts.at\n",
        "processing domain: "
       ]
      },
      {
       "output_type": "stream",
       "stream": "stdout",
       "text": [
        " authenticdesigns.com\n",
        "processing domain:  authors.library.caltech.edu\n",
        "processing domain:  authorsden.com\n",
        "processing domain: "
       ]
      },
      {
       "output_type": "stream",
       "stream": "stdout",
       "text": [
        " autismafter16.com\n",
        "processing domain:  autocadinsider.autodesk.com\n",
        "processing domain:  autoholics.com\n",
        "processing domain:  automobiles.honda.com\n",
        "processing domain:  autoracingdaily.com\n",
        "processing domain:  autos.aol.com\n",
        "processing domain:  autos.aol.com\n",
        "processing domain:  autos.aol.com\n",
        "processing domain: "
       ]
      },
      {
       "output_type": "stream",
       "stream": "stdout",
       "text": [
        " autos.aol.com\n",
        "processing domain:  autos.aol.com\n",
        "processing domain:  autos.aol.com\n",
        "processing domain:  autos.aol.com\n",
        "processing domain:  autos.jdpower.com\n",
        "processing domain:  autos.jdpower.com\n",
        "processing domain:  autos.jdpower.com\n",
        "processing domain:  autos.jdpower.com\n",
        "processing domain:  autos.jdpower.com\n",
        "processing domain: "
       ]
      },
      {
       "output_type": "stream",
       "stream": "stdout",
       "text": [
        " autos.msn.com\n",
        "processing domain:  autos.msn.com\n",
        "processing domain:  autos.msn.com\n",
        "processing domain:  autos.msn.com\n",
        "processing domain:  autos.msn.com\n",
        "processing domain:  autos.msn.com\n",
        "processing domain:  autos.yahoo.com\n",
        "processing domain:  autos.yahoo.com\n",
        "processing domain: "
       ]
      },
      {
       "output_type": "stream",
       "stream": "stdout",
       "text": [
        " autos.yahoo.com\n",
        "processing domain:  autos.yahoo.com\n",
        "processing domain:  autumnhousecambridge.co.uk\n",
        "processing domain:  autzenzoo.com\n",
        "processing domain:  avalaunchmedia.com\n",
        "processing domain:  avca.org\n",
        "processing domain:  avca.org\n",
        "processing domain:  aventurahospital.com\n",
        "processing domain: "
       ]
      },
      {
       "output_type": "stream",
       "stream": "stdout",
       "text": [
        " aventurahospital.com\n",
        "processing domain: "
       ]
      },
      {
       "output_type": "stream",
       "stream": "stdout",
       "text": [
        " avschools.avjobs.com\n",
        "processing domain:  avstop.com\n",
        "processing domain:  avulsedtv.newgrounds.com\n",
        "processing domain:  awana.org\n",
        "processing domain:  awana.org\n",
        "processing domain:  awana.org\n",
        "processing domain:  away.com\n",
        "processing domain:  away.com\n",
        "processing domain:  awindycitygal.wordpress.com\n",
        "processing domain: "
       ]
      },
      {
       "output_type": "stream",
       "stream": "stdout",
       "text": [
        " axis.apache.org\n",
        "processing domain:  axxon.com.ar\n",
        "processing domain:  ayearoffhe.blogspot.com\n",
        "processing domain:  ayenforcraft.blogspot.com\n",
        "processing domain: "
       ]
      },
      {
       "output_type": "stream",
       "stream": "stdout",
       "text": [
        " az.wikipedia.org\n",
        "processing domain:  azcapitoltimes.com\n",
        "processing domain:  azcapitoltimes.com\n",
        "processing domain:  azhie.net\n",
        "processing domain:  azieazah-aa.blogspot.com\n",
        "processing domain: "
       ]
      },
      {
       "output_type": "stream",
       "stream": "stdout",
       "text": [
        " azmemory.azlibrary.gov\n",
        "processing domain: "
       ]
      },
      {
       "output_type": "stream",
       "stream": "stdout",
       "text": [
        " azmemory.azlibrary.gov\n",
        "processing domain:  azmemory.azlibrary.gov\n",
        "processing domain: "
       ]
      },
      {
       "output_type": "stream",
       "stream": "stdout",
       "text": [
        " azmemory.azlibrary.gov\n",
        "processing domain:  azmemory.azlibrary.gov\n",
        "processing domain: "
       ]
      },
      {
       "output_type": "stream",
       "stream": "stdout",
       "text": [
        " azmemory.azlibrary.gov\n",
        "processing domain:  azmemory.azlibrary.gov\n",
        "processing domain:  aznow.biz\n",
        "processing domain:  aznow.biz\n",
        "processing domain:  aznow.biz\n",
        "processing domain:  azspot.net\n",
        "processing domain:  azstarnet.com\n",
        "processing domain: "
       ]
      },
      {
       "output_type": "stream",
       "stream": "stdout",
       "text": [
        " b-and-t-world-seeds.com\n",
        "processing domain:  b1015.com\n",
        "processing domain:  b1027.com\n",
        "processing domain:  b1027.com\n",
        "processing domain:  b3ta.com\n",
        "processing domain:  b93radio.com\n",
        "processing domain:  b975.com\n",
        "processing domain:  babynamesworld.parentsconnect.com\n",
        "processing domain:  babynamesworld.parentsconnect.com\n",
        "processing domain:  babynamesworld.parentsconnect.com\n",
        "processing domain:  backyardgardener.com\n",
        "processing domain:  badassdigest.com\n",
        "processing domain:  badgerherald.com\n",
        "processing domain:  bahan-membuat.com\n",
        "processing domain:  bahiaempauta.com.br\n",
        "processing domain:  bailee-madison.com\n",
        "processing domain:  bakercountypress.com\n",
        "processing domain: "
       ]
      },
      {
       "output_type": "stream",
       "stream": "stdout",
       "text": [
        " bakercountypress.com\n",
        "processing domain:  bakingbites.com\n",
        "processing domain:  bakingsodaupdate.blogspot.com\n",
        "processing domain:  balidiscovery.com\n",
        "processing domain: "
       ]
      },
      {
       "output_type": "stream",
       "stream": "stdout",
       "text": [
        " balihairesort.com\n",
        "processing domain:  balletalert.invisionzone.com\n",
        "processing domain:  balletalert.invisionzone.com\n",
        "processing domain:  ballotpedia.org\n",
        "processing domain:  ballotpedia.org\n",
        "processing domain:  ballotpedia.org\n",
        "processing domain:  ballstatesports.com\n",
        "processing domain: "
       ]
      },
      {
       "output_type": "stream",
       "stream": "stdout",
       "text": [
        " baltimore.cbslocal.com\n",
        "processing domain:  baltimore.cbslocal.com\n",
        "processing domain:  baltimore.cbslocal.com\n",
        "processing domain:  baltimore.citysearch.com\n",
        "processing domain:  baltimore.orioles.mlb.com\n",
        "processing domain:  baltimoresun.p2ionline.com\n",
        "processing domain:  bambuser.com\n",
        "processing domain:  bambuser.com\n",
        "processing domain:  banana1015.com\n",
        "processing domain:  banana1015.com\n",
        "processing domain:  banana1015.com\n",
        "processing domain:  bandb.petswelcome.com\n",
        "processing domain:  bangalinet.com\n",
        "processing domain: "
       ]
      },
      {
       "output_type": "stream",
       "stream": "stdout",
       "text": [
        " bangmek.wordpress.com\n",
        "processing domain:  bangordailynews.com\n",
        "processing domain:  bangordailynews.com\n",
        "processing domain:  bangordailynews.com\n",
        "processing domain:  bangordailynews.com\n",
        "processing domain:  bangordailynews.com\n",
        "processing domain:  bangordailynews.com\n",
        "processing domain:  bangordailynews.com\n",
        "processing domain:  bankstreet.edu\n",
        "processing domain:  banning-beaumont.patch.com\n",
        "processing domain:  banthat.com\n",
        "processing domain:  barandcasinotrainers.com\n",
        "processing domain:  barbarabray.net\n",
        "processing domain:  barbie.tumblr.com\n",
        "processing domain:  barnard.edu\n",
        "processing domain:  baroqueinhackney.com\n",
        "processing domain: "
       ]
      },
      {
       "output_type": "stream",
       "stream": "stdout",
       "text": [
        " barrow.patch.com\n",
        "processing domain:  bartleby.com\n",
        "processing domain:  bartleby.com\n",
        "processing domain:  baseball.dailyskew.com\n",
        "processing domain:  baseball.epicsports.com\n",
        "processing domain:  baseball.epicsports.com\n",
        "processing domain:  baseball.epicsports.com\n",
        "processing domain: "
       ]
      },
      {
       "output_type": "stream",
       "stream": "stdout",
       "text": [
        " baseball.epicsports.com\n",
        "processing domain:  baseball.epicsports.com\n",
        "processing domain:  baseball.epicsports.com\n",
        "processing domain:  baseball.epicsports.com\n",
        "processing domain:  baseball.fantasysports.yahoo.com\n",
        "processing domain:  baseball.fantasysports.yahoo.com\n",
        "processing domain:  baseball.fantasysports.yahoo.com\n",
        "processing domain:  baseball.fantasysports.yahoo.com\n",
        "processing domain:  baseball.fantasysports.yahoo.com\n",
        "processing domain: "
       ]
      },
      {
       "output_type": "stream",
       "stream": "stdout",
       "text": [
        " baseball.fantasysports.yahoo.com\n",
        "processing domain:  baseball.fantasysports.yahoo.com\n",
        "processing domain:  baseballamerica.com\n",
        "processing domain:  baseballamerica.com\n",
        "processing domain:  baseballeurope.com\n",
        "processing domain:  baseballhall.mlblogs.com\n",
        "processing domain: "
       ]
      },
      {
       "output_type": "stream",
       "stream": "stdout",
       "text": [
        " basenotes.net\n",
        "processing domain:  bash.org\n",
        "processing domain:  bash.org\n",
        "processing domain:  basketball.eurobasket.com\n",
        "processing domain:  basketball.eurobasket.com\n",
        "processing domain:  basketball.eurobasket.com\n"
       ]
      }
     ],
     "prompt_number": 9
    },
    {
     "cell_type": "code",
     "collapsed": false,
     "input": [
      "# Print the worst sentiment\n",
      "print sentiment"
     ],
     "language": "python",
     "metadata": {},
     "outputs": [
      {
       "output_type": "stream",
       "stream": "stdout",
       "text": [
        "{'polarity': -1.0, 'sentence': \"Prosecution's closing arguments\\nDoes Zimmerman have hysterical amnesia?\"}\n"
       ]
      }
     ],
     "prompt_number": 10
    },
    {
     "cell_type": "code",
     "collapsed": false,
     "input": [],
     "language": "python",
     "metadata": {},
     "outputs": []
    }
   ],
   "metadata": {}
  }
 ]
}