{
 "metadata": {
  "name": ""
 },
 "nbformat": 3,
 "nbformat_minor": 0,
 "worksheets": [
  {
   "cells": [
    {
     "cell_type": "markdown",
     "metadata": {},
     "source": [
      "# Simple Sentiment Analysis\n",
      "This simple block will show how TextBlob can be used to parse keywords and sentiment from a single article.  You may need to install TextBlob from [here]( textblob.readthedocs.org) via:\n",
      "```bash\n",
      "pip install -U textblob\n",
      "python -m textblob.download_corpora\n",
      "```"
     ]
    },
    {
     "cell_type": "code",
     "collapsed": false,
     "input": [
      "from text import TextBlob"
     ],
     "language": "python",
     "metadata": {},
     "outputs": [],
     "prompt_number": 4
    },
    {
     "cell_type": "code",
     "collapsed": false,
     "input": [
      "# Load a recent CNN article\n",
      "data = open('cnn.txt','r').read()"
     ],
     "language": "python",
     "metadata": {},
     "outputs": [],
     "prompt_number": 5
    },
    {
     "cell_type": "code",
     "collapsed": false,
     "input": [
      "print data"
     ],
     "language": "python",
     "metadata": {},
     "outputs": [
      {
       "output_type": "stream",
       "stream": "stdout",
       "text": [
        "Masked men with metal rods and Molotov cocktails prowl the Russian flag-draped balcony, surveying the crowds below. Stacks of tires topped with ribbons of razor wire line a makeshift barricade around the main entrance.\n",
        "Two days after smashing their way in, hundreds of protesters have transformed this government building in the industrial city of Donetsk, eastern Ukraine, into the self-declared \"People's Republic of Donetsk.\"\n",
        "From the clumsily erected bulwarks to the lack of a leader or concrete plan, the scenes are similar to the pro-European rallies in Kiev's Maidan Square in recent months, with one major difference: Many of these protesters say they want to join Russia and have called for a referendum on secession from Ukraine to be held by May 11.\n",
        "The protesters who let us into the building are eager to show they are here entirely peacefully, but it is clear they are prepared for a fight. Doors have been locked and stairwells blocked at the top of the building to prevent the Ukrainian military from storming in from above. They've smashed the pavement outside the building to use as stones. A makeshift hospital and temporary cafe have been constructed, and locals are keeping the men and women inside stocked up on food and medical supplies.\n",
        " Ukraine warns Russia: Don't invade Brawl erupts in Ukrainian parliament Pro-Russia rallies escalating in Ukraine What is Russia's endgame in Ukraine?\n",
        "Some of the protesters inside the building are happy to see us; others seem ready to attack us with their bats at a moment's notice. Some are aggressively anti-American. One of the older men asks us why Americans are sticking their nose into Ukrainian affairs.\n",
        "Russia warns of civil war if Ukraine uses force to quell eastern revolts\n",
        "One man tells us that he's from the Eastern Front, a new local group, and that help is on the way. He says there are 6,000 members of his group who stand ready to \"protect the fatherland.\" Others are hopeful that a vote to secede from Ukraine can be held sooner than protesters announced Monday.\n",
        "When the power went out Monday night, many inside believed Ukraine's special forces were coming to retake the building. But the Ukrainian military is nowhere to be seen, and the mood of the protesters is growing ever more defiant.\n",
        "Donetsk is the hometown of ousted Ukrainian President Viktor Yanukovych, whose pro-Russian government was toppled in a popular revolt in February.\n",
        "Nobody knows for sure what role, if any, Russia is playing in this latest bout of unrest in Ukraine. Acting Ukrainian President Oleksandr Turchynov blames \"separatist groups coordinated by Russian special services\" for the revolts in eastern Ukraine, which he said echoed events leading to the Russian annexation of Crimea three weeks ago.\n",
        "Since then, Russia has amassed thousands of troops on its border with eastern Ukraine. And Russia's Foreign Ministry said reports that protesters are facing a crackdown by Ukrainian authorities are of particular concern.\n",
        "\"We are calling for the immediate cessation of any military preparations, which could lead to civil war,\" it said in a statement on its official website.\n",
        "Protesters say that local complaints, not Moscow, are driving anti-government sentiments here in Donetsk. One man, who calls himself Andre, says that Ukraine's ongoing political crisis has hit his wages and that he can no longer afford to feed his family. He tells me that he has simply had enough.\n",
        "Ukrainian officials say they won't storm the building for now. But the acting President says those who have seized buildings will be treated as \"terrorists\" and prosecuted with the full force of the law.\n",
        "In the meantime, protesters say they will continue to fortify their makeshift fortress in Donetsk, and their tiny pocket of grievances and whims, despite its size, seems to now be on the front line of a massive struggle for the future of Ukraine.\n",
        "U.S. Navy ship to arrive in Black Sea by Thursday\n",
        "Ukraine to Russia: I'm not your child\n"
       ]
      }
     ],
     "prompt_number": 6
    },
    {
     "cell_type": "code",
     "collapsed": true,
     "input": [
      "# Create a textblob object out of this data\n",
      "blob = TextBlob(data)"
     ],
     "language": "python",
     "metadata": {},
     "outputs": [],
     "prompt_number": 7
    },
    {
     "cell_type": "code",
     "collapsed": false,
     "input": [
      "# Let's store each of our analyzed blocks in an array we can use later\n",
      "output = []\n",
      "\n",
      "# Extract and iterate over each sentence\n",
      "for s in blob.sentences:\n",
      "\n",
      "    # Noun phrases help indicate the key objects in each sentence\n",
      "    phrases = s.noun_phrases\n",
      "    \n",
      "    # Polarity (as opposed to subjectivity) tells us how positive/neutral/negative this sentence is\n",
      "    polarity = s.sentiment.polarity\n",
      "\n",
      "    output.append( {'phrases' : phrases, 'polarity' : polarity, 'sentence' : str(s) } )"
     ],
     "language": "python",
     "metadata": {},
     "outputs": [],
     "prompt_number": 8
    },
    {
     "cell_type": "code",
     "collapsed": false,
     "input": [
      "# Let's sort this list\n",
      "from pprint import pprint\n",
      "output = sorted(output, key=lambda x: x['polarity'], reverse=True)\n",
      "\n",
      "# Now let's look at the most positive and least positive\n",
      "print '\\nmost positive:'\n",
      "pprint(output[0])\n",
      "print '\\nmost negative:' \n",
      "pprint(output[-1])"
     ],
     "language": "python",
     "metadata": {},
     "outputs": [
      {
       "output_type": "stream",
       "stream": "stdout",
       "text": [
        "\n",
        "most positive:\n",
        "{'phrases': WordList(['donetsk', 'ukrainian', u'viktor yanukovych', u'pro-russian government', u'popular revolt', 'february']),\n",
        " 'polarity': 0.6,\n",
        " 'sentence': 'Donetsk is the hometown of ousted Ukrainian President Viktor Yanukovych, whose pro-Russian government was toppled in a popular revolt in February.'}\n",
        "\n",
        "most negative:\n",
        "{'phrases': WordList(['u.s.', u'navy ship', 'black', 'ukraine', 'russia']),\n",
        " 'polarity': -0.16666666666666666,\n",
        " 'sentence': \"U.S. Navy ship to arrive in Black Sea by Thursday\\nUkraine to Russia: I'm not your child\"}\n"
       ]
      }
     ],
     "prompt_number": 10
    },
    {
     "cell_type": "code",
     "collapsed": false,
     "input": [
      "pprint(output)"
     ],
     "language": "python",
     "metadata": {},
     "outputs": [
      {
       "output_type": "stream",
       "stream": "stdout",
       "text": [
        "[{'phrases': WordList(['donetsk', 'ukrainian', u'viktor yanukovych', u'pro-russian government', u'popular revolt', 'february']),\n",
        "  'polarity': 0.6,\n",
        "  'sentence': 'Donetsk is the hometown of ousted Ukrainian President Viktor Yanukovych, whose pro-Russian government was toppled in a popular revolt in February.'},\n",
        " {'phrases': WordList([u\"moment 's notice\"]),\n",
        "  'polarity': 0.5,\n",
        "  'sentence': \"Some of the protesters inside the building are happy to see us; others seem ready to attack us with their bats at a moment's notice.\"},\n",
        " {'phrases': WordList(['russia', 'ukraine']),\n",
        "  'polarity': 0.5,\n",
        "  'sentence': 'Nobody knows for sure what role, if any, Russia is playing in this latest bout of unrest in Ukraine.'},\n",
        " {'phrases': WordList(['ukraine', u'special forces']),\n",
        "  'polarity': 0.4285714285714286,\n",
        "  'sentence': \"When the power went out Monday night, many inside believed Ukraine's special forces were coming to retake the building.\"},\n",
        " {'phrases': WordList([]),\n",
        "  'polarity': 0.2,\n",
        "  'sentence': 'He says there are 6,000 members of his group who stand ready to \"protect the fatherland.'},\n",
        " {'phrases': WordList(['ukrainian']),\n",
        "  'polarity': 0.2,\n",
        "  'sentence': 'But the Ukrainian military is nowhere to be seen, and the mood of the protesters is growing ever more defiant.'},\n",
        " {'phrases': WordList([]),\n",
        "  'polarity': 0.17500000000000002,\n",
        "  'sentence': 'The protesters who let us into the building are eager to show they are here entirely peacefully, but it is clear they are prepared for a fight.'},\n",
        " {'phrases': WordList([u'full force']),\n",
        "  'polarity': 0.175,\n",
        "  'sentence': 'But the acting President says those who have seized buildings will be treated as \"terrorists\" and prosecuted with the full force of the law.'},\n",
        " {'phrases': WordList(['stacks', u'razor wire line', u'makeshift barricade', u'main entrance']),\n",
        "  'polarity': 0.16666666666666666,\n",
        "  'sentence': 'Stacks of tires topped with ribbons of razor wire line a makeshift barricade around the main entrance.'},\n",
        " {'phrases': WordList(['ukrainian']),\n",
        "  'polarity': 0.16666666666666666,\n",
        "  'sentence': 'One of the older men asks us why Americans are sticking their nose into Ukrainian affairs.'},\n",
        " {'phrases': WordList(['doors', 'ukrainian']),\n",
        "  'polarity': 0.13333333333333333,\n",
        "  'sentence': 'Doors have been locked and stairwells blocked at the top of the building to prevent the Ukrainian military from storming in from above.'},\n",
        " {'phrases': WordList(['ukrainian', u'oleksandr turchynov', u'separatist groups', 'russian', u'special services', 'ukraine', u'russian annexation', 'crimea']),\n",
        "  'polarity': 0.08928571428571429,\n",
        "  'sentence': 'Acting Ukrainian President Oleksandr Turchynov blames \"separatist groups coordinated by Russian special services\" for the revolts in eastern Ukraine, which he said echoed events leading to the Russian annexation of Crimea three weeks ago.'},\n",
        " {'phrases': WordList([u'concrete plan', u'pro-european rallies', 'kiev', 'maidan', u'recent months', u'major difference', 'russia', 'ukraine', 'may']),\n",
        "  'polarity': 0.06875,\n",
        "  'sentence': '\"\\nFrom the clumsily erected bulwarks to the lack of a leader or concrete plan, the scenes are similar to the pro-European rallies in Kiev\\'s Maidan Square in recent months, with one major difference: Many of these protesters say they want to join Russia and have called for a referendum on secession from Ukraine to be held by May 11.'},\n",
        " {'phrases': WordList(['russia', u'civil war', 'ukraine', u'uses force', u'quell eastern revolts', 'front', u'new local group']),\n",
        "  'polarity': 0.06818181818181818,\n",
        "  'sentence': \"Russia warns of civil war if Ukraine uses force to quell eastern revolts\\nOne man tells us that he's from the Eastern Front, a new local group, and that help is on the way.\"},\n",
        " {'phrases': WordList(['russia', 'ministry', 'ukrainian', u'particular concern']),\n",
        "  'polarity': 0.02083333333333333,\n",
        "  'sentence': \"And Russia's Foreign Ministry said reports that protesters are facing a crackdown by Ukrainian authorities are of particular concern.\"},\n",
        " {'phrases': WordList(['masked', u'metal rods', 'molotov', u'cocktails prowl']),\n",
        "  'polarity': 0.0,\n",
        "  'sentence': 'Masked men with metal rods and Molotov cocktails prowl the Russian flag-draped balcony, surveying the crowds below.'},\n",
        " {'phrases': WordList([u'government building', u'industrial city', 'donetsk', 'ukraine', u\"'s republic\", 'donetsk']),\n",
        "  'polarity': 0.0,\n",
        "  'sentence': 'Two days after smashing their way in, hundreds of protesters have transformed this government building in the industrial city of Donetsk, eastern Ukraine, into the self-declared \"People\\'s Republic of Donetsk.'},\n",
        " {'phrases': WordList([]),\n",
        "  'polarity': 0.0,\n",
        "  'sentence': \"They've smashed the pavement outside the building to use as stones.\"},\n",
        " {'phrases': WordList([u'makeshift hospital', u'temporary cafe', u'medical supplies']),\n",
        "  'polarity': 0.0,\n",
        "  'sentence': 'A makeshift hospital and temporary cafe have been constructed, and locals are keeping the men and women inside stocked up on food and medical supplies.'},\n",
        " {'phrases': WordList(['ukraine', 'russia', u\"n't invade\", 'brawl', 'ukrainian', 'pro-russia', 'ukraine', 'russia', u\"'s endgame\", 'ukraine']),\n",
        "  'polarity': 0.0,\n",
        "  'sentence': \"Ukraine warns Russia: Don't invade Brawl erupts in Ukrainian parliament Pro-Russia rallies escalating in Ukraine What is Russia's endgame in Ukraine?\"},\n",
        " {'phrases': WordList([]),\n",
        "  'polarity': 0.0,\n",
        "  'sentence': 'Some are aggressively anti-American.'},\n",
        " {'phrases': WordList(['ukraine']),\n",
        "  'polarity': 0.0,\n",
        "  'sentence': '\" Others are hopeful that a vote to secede from Ukraine can be held sooner than protesters announced Monday.'},\n",
        " {'phrases': WordList(['russia', 'ukraine']),\n",
        "  'polarity': 0.0,\n",
        "  'sentence': 'Since then, Russia has amassed thousands of troops on its border with eastern Ukraine.'},\n",
        " {'phrases': WordList(['protesters', u'local complaints', 'moscow', u'anti-government sentiments', 'donetsk']),\n",
        "  'polarity': 0.0,\n",
        "  'sentence': 'Protesters say that local complaints, not Moscow, are driving anti-government sentiments here in Donetsk.'},\n",
        " {'phrases': WordList(['andre', 'ukraine', u'political crisis']),\n",
        "  'polarity': 0.0,\n",
        "  'sentence': \"One man, who calls himself Andre, says that Ukraine's ongoing political crisis has hit his wages and that he can no longer afford to feed his family.\"},\n",
        " {'phrases': WordList([]),\n",
        "  'polarity': 0.0,\n",
        "  'sentence': 'He tells me that he has simply had enough.'},\n",
        " {'phrases': WordList(['ukrainian', u\"wo n't storm\"]),\n",
        "  'polarity': 0.0,\n",
        "  'sentence': \"Ukrainian officials say they won't storm the building for now.\"},\n",
        " {'phrases': WordList([u'makeshift fortress', 'donetsk', u'tiny pocket', u'front line', u'massive struggle', 'ukraine']),\n",
        "  'polarity': 0.0,\n",
        "  'sentence': 'In the meantime, protesters say they will continue to fortify their makeshift fortress in Donetsk, and their tiny pocket of grievances and whims, despite its size, seems to now be on the front line of a massive struggle for the future of Ukraine.'},\n",
        " {'phrases': WordList([u'immediate cessation', u'military preparations', u'civil war', u'official website']),\n",
        "  'polarity': -0.1,\n",
        "  'sentence': '\"We are calling for the immediate cessation of any military preparations, which could lead to civil war,\" it said in a statement on its official website.'},\n",
        " {'phrases': WordList(['u.s.', u'navy ship', 'black', 'ukraine', 'russia']),\n",
        "  'polarity': -0.16666666666666666,\n",
        "  'sentence': \"U.S. Navy ship to arrive in Black Sea by Thursday\\nUkraine to Russia: I'm not your child\"}]\n"
       ]
      }
     ],
     "prompt_number": 11
    },
    {
     "cell_type": "code",
     "collapsed": false,
     "input": [],
     "language": "python",
     "metadata": {},
     "outputs": []
    }
   ],
   "metadata": {}
  }
 ]
}